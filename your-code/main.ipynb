{
 "cells": [
  {
   "cell_type": "markdown",
   "metadata": {},
   "source": [
    "# Web Scraping Lab\n",
    "\n",
    "You will find in this notebook some scrapy exercises to practise your scraping skills.\n",
    "\n",
    "**Tips:**\n",
    "\n",
    "- Check the response status code for each request to ensure you have obtained the intended contennt.\n",
    "- Print the response text in each request to understand the kind of info you are getting and its format.\n",
    "- Check for patterns in the response text to extract the data/info requested in each question.\n",
    "- Visit each url and take a look at its source through Chrome DevTools. You'll need to identify the html tags, special class names etc. used for the html content you are expected to extract."
   ]
  },
  {
   "cell_type": "markdown",
   "metadata": {},
   "source": [
    "- [Requests library](http://docs.python-requests.org/en/master/#the-user-guide) documentation \n",
    "- [Beautiful Soup Doc](https://www.crummy.com/software/BeautifulSoup/bs4/doc/)\n",
    "- [Urllib](https://docs.python.org/3/library/urllib.html#module-urllib)\n",
    "- [re lib](https://docs.python.org/3/library/re.html)\n",
    "- [lxml lib](https://lxml.de/)\n",
    "- [Scrapy](https://scrapy.org/)\n",
    "- [List of HTTP status codes](https://en.wikipedia.org/wiki/List_of_HTTP_status_codes)\n",
    "- [HTML basics](http://www.simplehtmlguide.com/cheatsheet.php)\n",
    "- [CSS basics](https://www.cssbasics.com/#page_start)"
   ]
  },
  {
   "cell_type": "markdown",
   "metadata": {},
   "source": [
    "#### Below are the libraries and modules you may need. `requests`,  `BeautifulSoup` and `pandas` are imported for you. If you prefer to use additional libraries feel free to uncomment them."
   ]
  },
  {
   "cell_type": "code",
   "execution_count": 2,
   "metadata": {},
   "outputs": [],
   "source": [
    "import requests\n",
    "from bs4 import BeautifulSoup\n",
    "import pandas as pd\n",
    "# from pprint import pprint\n",
    "from lxml import html\n",
    "from lxml.html import fromstring\n",
    "# import urllib.request\n",
    "from urllib.request import urlopen\n",
    "# import random\n",
    "import re\n",
    "# import scrapy"
   ]
  },
  {
   "cell_type": "markdown",
   "metadata": {},
   "source": [
    "#### Download, parse (using BeautifulSoup), and print the content from the Trending Developers page from GitHub:"
   ]
  },
  {
   "cell_type": "code",
   "execution_count": 2,
   "metadata": {},
   "outputs": [],
   "source": [
    "# This is the url you will scrape in this exercise\n",
    "url = 'https://github.com/trending/developers'"
   ]
  },
  {
   "cell_type": "code",
   "execution_count": 3,
   "metadata": {},
   "outputs": [
    {
     "data": {
      "text/plain": [
       "<Response [200]>"
      ]
     },
     "execution_count": 3,
     "metadata": {},
     "output_type": "execute_result"
    }
   ],
   "source": [
    "#your code\n",
    "requests.get(url)"
   ]
  },
  {
   "cell_type": "markdown",
   "metadata": {},
   "source": [
    "#### Display the names of the trending developers retrieved in the previous step.\n",
    "\n",
    "Your output should be a Python list of developer names. Each name should not contain any html tag.\n",
    "\n",
    "**Instructions:**\n",
    "\n",
    "1. Find out the html tag and class names used for the developer names. You can achieve this using Chrome DevTools.\n",
    "\n",
    "1. Use BeautifulSoup to extract all the html elements that contain the developer names.\n",
    "\n",
    "1. Use string manipulation techniques to replace whitespaces and linebreaks (i.e. `\\n`) in the *text* of each html element. Use a list to store the clean names.\n",
    "\n",
    "1. Print the list of names.\n",
    "\n",
    "Your output should look like below:\n",
    "\n",
    "```\n",
    "['trimstray (@trimstray)',\n",
    " 'joewalnes (JoeWalnes)',\n",
    " 'charlax (Charles-AxelDein)',\n",
    " 'ForrestKnight (ForrestKnight)',\n",
    " 'revery-ui (revery-ui)',\n",
    " 'alibaba (Alibaba)',\n",
    " 'Microsoft (Microsoft)',\n",
    " 'github (GitHub)',\n",
    " 'facebook (Facebook)',\n",
    " 'boazsegev (Bo)',\n",
    " 'google (Google)',\n",
    " 'cloudfetch',\n",
    " 'sindresorhus (SindreSorhus)',\n",
    " 'tensorflow',\n",
    " 'apache (TheApacheSoftwareFoundation)',\n",
    " 'DevonCrawford (DevonCrawford)',\n",
    " 'ARMmbed (ArmMbed)',\n",
    " 'vuejs (vuejs)',\n",
    " 'fastai (fast.ai)',\n",
    " 'QiShaoXuan (Qi)',\n",
    " 'joelparkerhenderson (JoelParkerHenderson)',\n",
    " 'torvalds (LinusTorvalds)',\n",
    " 'CyC2018',\n",
    " 'komeiji-satori (神楽坂覚々)',\n",
    " 'script-8']\n",
    " ```"
   ]
  },
  {
   "cell_type": "code",
   "execution_count": 4,
   "metadata": {},
   "outputs": [],
   "source": [
    "#your code\n",
    "html = requests.get(url)\n",
    "soup = BeautifulSoup(html.content, \"html.parser\")\n"
   ]
  },
  {
   "cell_type": "code",
   "execution_count": 5,
   "metadata": {},
   "outputs": [
    {
     "data": {
      "text/plain": [
       "['David Pedersen',\n",
       " 'Emil Ernerfeldt',\n",
       " 'Yifei Zhang',\n",
       " 'Alessandro Ros',\n",
       " 'Romain Beaumont',\n",
       " 'Kudo Chien',\n",
       " 'David Montague',\n",
       " 'DefTruth',\n",
       " 'Bjorn Lu',\n",
       " 'Nathan Rajlich',\n",
       " 'Abubakar Abid',\n",
       " 'oobabooga',\n",
       " 'tangly1024',\n",
       " 'Stefan Prodan',\n",
       " 'Hari Sekhon',\n",
       " 'Patrick von Platen',\n",
       " 'dan',\n",
       " 'Brian Ketelsen',\n",
       " 'Bastian Köcher',\n",
       " 'Shivam Mishra',\n",
       " 'Leonid Bugaev',\n",
       " 'Matt Wang',\n",
       " 'Harrison Chase',\n",
       " 'Azure SDK Bot',\n",
       " 'Hao Wu']"
      ]
     },
     "execution_count": 5,
     "metadata": {},
     "output_type": "execute_result"
    }
   ],
   "source": [
    "result1=soup.find_all(\"h1\", attrs = {\"class\": \"h3 lh-condensed\"})\n",
    "\n",
    "names=[i.getText().strip().replace(\"\\n\", \"\") for i in result1]\n",
    "names"
   ]
  },
  {
   "cell_type": "markdown",
   "metadata": {},
   "source": [
    "#### Display the trending Python repositories in GitHub\n",
    "\n",
    "The steps to solve this problem is similar to the previous one except that you need to find out the repository names instead of developer names."
   ]
  },
  {
   "cell_type": "code",
   "execution_count": 6,
   "metadata": {},
   "outputs": [],
   "source": [
    "# This is the url you will scrape in this exercise\n",
    "url = 'https://github.com/trending/python?since=daily'"
   ]
  },
  {
   "cell_type": "code",
   "execution_count": 7,
   "metadata": {},
   "outputs": [],
   "source": [
    "#your code\n",
    "html = requests.get(url)\n",
    "soup = BeautifulSoup(html.content, \"html.parser\")"
   ]
  },
  {
   "cell_type": "code",
   "execution_count": 21,
   "metadata": {},
   "outputs": [
    {
     "data": {
      "text/plain": [
       "'gpt4free'"
      ]
     },
     "execution_count": 21,
     "metadata": {},
     "output_type": "execute_result"
    }
   ],
   "source": [
    "soup.find_all(\"h2\", attrs = {\"class\": \"h3 lh-condensed\"})[0].getText().replace(\"\\n\", \"\").split()[2]"
   ]
  },
  {
   "cell_type": "code",
   "execution_count": 23,
   "metadata": {},
   "outputs": [
    {
     "data": {
      "text/plain": [
       "['gpt4free',\n",
       " 'Agent-LLM',\n",
       " 'dndserver',\n",
       " 'trader',\n",
       " 'bark',\n",
       " 'chatgpt-clone',\n",
       " 'Auto-GPT-MetaTrader-Plugin',\n",
       " 'chatgpt-on-wechat',\n",
       " 'loopgpt',\n",
       " 'pandora',\n",
       " 'pdfGPT',\n",
       " 'BMTools',\n",
       " 'devops-exercises',\n",
       " 'langchain',\n",
       " 'SadTalker',\n",
       " 'plugins-quickstart',\n",
       " 'transformers',\n",
       " 'mmagic',\n",
       " 'samsung-frame-art',\n",
       " 'img2dataset',\n",
       " 'typer',\n",
       " 'semantra',\n",
       " 'portainer-templates',\n",
       " 'LordGPT',\n",
       " 'Laws']"
      ]
     },
     "execution_count": 23,
     "metadata": {},
     "output_type": "execute_result"
    }
   ],
   "source": [
    "result2=soup.find_all(\"h2\", attrs = {\"class\": \"h3 lh-condensed\"})\n",
    "\n",
    "repositories=[i.getText().strip().replace(\"\\n\", \"\").split()[2] for i in result2]\n",
    "repositories"
   ]
  },
  {
   "cell_type": "markdown",
   "metadata": {},
   "source": [
    "#### Display all the image links from Walt Disney wikipedia page"
   ]
  },
  {
   "cell_type": "code",
   "execution_count": 52,
   "metadata": {},
   "outputs": [],
   "source": [
    "# This is the url you will scrape in this exercise\n",
    "url = 'https://en.wikipedia.org/wiki/Walt_Disney'"
   ]
  },
  {
   "cell_type": "code",
   "execution_count": 53,
   "metadata": {},
   "outputs": [],
   "source": [
    "#your code\n",
    "html = requests.get(url)\n",
    "soup = BeautifulSoup(html.content, \"html.parser\")"
   ]
  },
  {
   "cell_type": "code",
   "execution_count": 75,
   "metadata": {},
   "outputs": [],
   "source": [
    "result3=soup.find_all(\"a\", attrs = {\"class\": \"image\"})"
   ]
  },
  {
   "cell_type": "code",
   "execution_count": 79,
   "metadata": {},
   "outputs": [
    {
     "data": {
      "text/plain": [
       "['https://en.wikipedia.org/wiki/File:Walt_Disney_1946.JPG',\n",
       " 'https://en.wikipedia.org/wiki/File:Walt_Disney_1942_signature.svg',\n",
       " 'https://en.wikipedia.org/wiki/File:Walt_Disney_Birthplace_Exterior_Hermosa_Chicago_Illinois.jpg',\n",
       " 'https://en.wikipedia.org/wiki/File:Walt_Disney_envelope_ca._1921.jpg',\n",
       " 'https://en.wikipedia.org/wiki/File:Trolley_Troubles_poster.jpg',\n",
       " 'https://en.wikipedia.org/wiki/File:Steamboat-willie.jpg',\n",
       " 'https://en.wikipedia.org/wiki/File:Walt_Disney_1935.jpg',\n",
       " 'https://en.wikipedia.org/wiki/File:Walt_Disney_Snow_white_1937_trailer_screenshot_(13).jpg',\n",
       " 'https://en.wikipedia.org/wiki/File:Disney_drawing_goofy.jpg',\n",
       " 'https://en.wikipedia.org/wiki/File:WaltDisneyplansDisneylandDec1954.jpg',\n",
       " 'https://en.wikipedia.org/wiki/File:Walt_disney_portrait_right.jpg',\n",
       " 'https://en.wikipedia.org/wiki/File:Walt_Disney_Grave.JPG',\n",
       " 'https://en.wikipedia.org/wiki/File:Roy_O._Disney_with_Company_at_Press_Conference.jpg',\n",
       " 'https://en.wikipedia.org/wiki/File:DisneySchiphol1951.jpg',\n",
       " 'https://en.wikipedia.org/wiki/File:Disney1968.jpg',\n",
       " 'https://en.wikipedia.org/wiki/File:Disney_Oscar_1953_(cropped).jpg',\n",
       " 'https://en.wikipedia.org/wiki/File:Disneyland_Resort_logo.svg',\n",
       " 'https://en.wikipedia.org/wiki/File:Animation_disc.svg',\n",
       " 'https://en.wikipedia.org/wiki/File:Magic_Kingdom_castle.jpg',\n",
       " 'https://en.wikipedia.org/wiki/File:Blank_television_set.svg']"
      ]
     },
     "execution_count": 79,
     "metadata": {},
     "output_type": "execute_result"
    }
   ],
   "source": [
    "links=[\"https://en.wikipedia.org\" + i.get(\"href\") for i in result3]\n",
    "links"
   ]
  },
  {
   "cell_type": "markdown",
   "metadata": {},
   "source": [
    "#### Retrieve an arbitary Wikipedia page of \"Python\" and create a list of links on that page"
   ]
  },
  {
   "cell_type": "code",
   "execution_count": 80,
   "metadata": {},
   "outputs": [],
   "source": [
    "# This is the url you will scrape in this exercise\n",
    "url ='https://en.wikipedia.org/wiki/Python' "
   ]
  },
  {
   "cell_type": "code",
   "execution_count": 81,
   "metadata": {},
   "outputs": [],
   "source": [
    "#your code\n",
    "html = requests.get(url)\n",
    "soup = BeautifulSoup(html.content, \"html.parser\")"
   ]
  },
  {
   "cell_type": "code",
   "execution_count": 90,
   "metadata": {},
   "outputs": [],
   "source": [
    "result4= soup.find_all(\"a\")"
   ]
  },
  {
   "cell_type": "code",
   "execution_count": 100,
   "metadata": {},
   "outputs": [],
   "source": [
    "links2=[i.get(\"href\") for i in result4]\n",
    "links3= [i for i in links2 if not i.startswith(\"#\")]"
   ]
  },
  {
   "cell_type": "code",
   "execution_count": 101,
   "metadata": {},
   "outputs": [
    {
     "name": "stdout",
     "output_type": "stream",
     "text": [
      "['https://en.wikipedia.org/wiki/Main_Page', 'https://en.wikipedia.org/wiki/Wikipedia:Contents', 'https://en.wikipedia.org/wiki/Portal:Current_events', 'https://en.wikipedia.org/wiki/Special:Random', 'https://en.wikipedia.org/wiki/Wikipedia:About', 'https://en.wikipedia.org/wiki/Wikipedia:Contact_us', 'https://donate.wikimedia.org/wiki/Special:FundraiserRedirector?utm_source=donate&utm_medium=sidebar&utm_campaign=C13_en.wikipedia.org&uselang=en', 'https://en.wikipedia.org/wiki/Help:Contents', 'https://en.wikipedia.org/wiki/Help:Introduction', 'https://en.wikipedia.org/wiki/Wikipedia:Community_portal', 'https://en.wikipedia.org/wiki/Special:RecentChanges', 'https://en.wikipedia.org/wiki/Wikipedia:File_upload_wizard', 'https://en.wikipedia.org/wiki/Main_Page', 'https://en.wikipedia.org/wiki/Special:Search', 'https://en.wikipedia.org/w/index.php?title=Special:CreateAccount&returnto=Python', 'https://en.wikipedia.org/w/index.php?title=Special:UserLogin&returnto=Python', 'https://en.wikipedia.org/w/index.php?title=Special:CreateAccount&returnto=Python', 'https://en.wikipedia.org/w/index.php?title=Special:UserLogin&returnto=Python', 'https://en.wikipedia.org/wiki/Help:Introduction', 'https://en.wikipedia.org/wiki/Special:MyContributions', 'https://en.wikipedia.org/wiki/Special:MyTalk', 'https://af.wikipedia.org/wiki/Python', 'https://als.wikipedia.org/wiki/Python', 'https://ar.wikipedia.org/wiki/%D8%A8%D8%A7%D9%8A%D8%AB%D9%88%D9%86_(%D8%AA%D9%88%D8%B6%D9%8A%D8%AD)', 'https://az.wikipedia.org/wiki/Python_(d%C9%99qiql%C9%99%C5%9Fdirm%C9%99)', 'https://bn.wikipedia.org/wiki/%E0%A6%AA%E0%A6%BE%E0%A6%87%E0%A6%A5%E0%A6%A8_(%E0%A6%A6%E0%A7%8D%E0%A6%AC%E0%A7%8D%E0%A6%AF%E0%A6%B0%E0%A7%8D%E0%A6%A5%E0%A6%A4%E0%A6%BE_%E0%A6%A8%E0%A6%BF%E0%A6%B0%E0%A6%B8%E0%A6%A8)', 'https://be.wikipedia.org/wiki/Python', 'https://bg.wikipedia.org/wiki/%D0%9F%D0%B8%D1%82%D0%BE%D0%BD_(%D0%BF%D0%BE%D1%8F%D1%81%D0%BD%D0%B5%D0%BD%D0%B8%D0%B5)', 'https://cs.wikipedia.org/wiki/Python_(rozcestn%C3%ADk)', 'https://da.wikipedia.org/wiki/Python', 'https://de.wikipedia.org/wiki/Python', 'https://eo.wikipedia.org/wiki/Pitono_(apartigilo)', 'https://eu.wikipedia.org/wiki/Python_(argipena)', 'https://fa.wikipedia.org/wiki/%D9%BE%D8%A7%DB%8C%D8%AA%D9%88%D9%86', 'https://fr.wikipedia.org/wiki/Python', 'https://ko.wikipedia.org/wiki/%ED%8C%8C%EC%9D%B4%EC%84%A0', 'https://hr.wikipedia.org/wiki/Python_(razdvojba)', 'https://io.wikipedia.org/wiki/Pitono', 'https://id.wikipedia.org/wiki/Python', 'https://ia.wikipedia.org/wiki/Python_(disambiguation)', 'https://is.wikipedia.org/wiki/Python_(a%C3%B0greining)', 'https://it.wikipedia.org/wiki/Python_(disambigua)', 'https://he.wikipedia.org/wiki/%D7%A4%D7%99%D7%AA%D7%95%D7%9F', 'https://ka.wikipedia.org/wiki/%E1%83%9E%E1%83%98%E1%83%97%E1%83%9D%E1%83%9C%E1%83%98_(%E1%83%9B%E1%83%A0%E1%83%90%E1%83%95%E1%83%90%E1%83%9A%E1%83%9B%E1%83%9C%E1%83%98%E1%83%A8%E1%83%95%E1%83%9C%E1%83%94%E1%83%9A%E1%83%9D%E1%83%95%E1%83%90%E1%83%9C%E1%83%98)', 'https://kg.wikipedia.org/wiki/Mboma_(nyoka)', 'https://la.wikipedia.org/wiki/Python_(discretiva)', 'https://lb.wikipedia.org/wiki/Python', 'https://hu.wikipedia.org/wiki/Python_(egy%C3%A9rtelm%C5%B1s%C3%ADt%C5%91_lap)', 'https://mr.wikipedia.org/wiki/%E0%A4%AA%E0%A4%BE%E0%A4%AF%E0%A4%A5%E0%A5%89%E0%A4%A8_(%E0%A4%86%E0%A4%9C%E0%A5%8D%E0%A4%9E%E0%A4%BE%E0%A4%B5%E0%A4%B2%E0%A5%80_%E0%A4%AD%E0%A4%BE%E0%A4%B7%E0%A4%BE)', 'https://nl.wikipedia.org/wiki/Python', 'https://ja.wikipedia.org/wiki/%E3%83%91%E3%82%A4%E3%82%BD%E3%83%B3', 'https://no.wikipedia.org/wiki/Pyton', 'https://pl.wikipedia.org/wiki/Pyton', 'https://pt.wikipedia.org/wiki/Python_(desambigua%C3%A7%C3%A3o)', 'https://ru.wikipedia.org/wiki/Python_(%D0%B7%D0%BD%D0%B0%D1%87%D0%B5%D0%BD%D0%B8%D1%8F)', 'https://sk.wikipedia.org/wiki/Python', 'https://sr.wikipedia.org/wiki/%D0%9F%D0%B8%D1%82%D0%BE%D0%BD_(%D0%B2%D0%B8%D1%88%D0%B5%D0%B7%D0%BD%D0%B0%D1%87%D0%BD%D0%B0_%D0%BE%D0%B4%D1%80%D0%B5%D0%B4%D0%BD%D0%B8%D1%86%D0%B0)', 'https://sh.wikipedia.org/wiki/Python', 'https://fi.wikipedia.org/wiki/Python', 'https://sv.wikipedia.org/wiki/Pyton', 'https://th.wikipedia.org/wiki/%E0%B9%84%E0%B8%9E%E0%B8%97%E0%B8%AD%E0%B8%99', 'https://tr.wikipedia.org/wiki/Python_(anlam_ayr%C4%B1m%C4%B1)', 'https://uk.wikipedia.org/wiki/%D0%9F%D1%96%D1%84%D0%BE%D0%BD', 'https://ur.wikipedia.org/wiki/%D9%BE%D8%A7%D8%A6%DB%8C%D8%AA%DA%BE%D9%88%D9%86', 'https://vi.wikipedia.org/wiki/Python', 'https://zh.wikipedia.org/wiki/Python_(%E6%B6%88%E6%AD%A7%E4%B9%89)', 'https://www.wikidata.org/wiki/Special:EntityPage/Q747452#sitelinks-wikipedia', 'https://en.wikipedia.org/wiki/Python', 'https://en.wikipedia.org/wiki/Talk:Python', 'https://en.wikipedia.org/wiki/Python', 'https://en.wikipedia.org/w/index.php?title=Python&action=edit', 'https://en.wikipedia.org/w/index.php?title=Python&action=history', 'https://en.wikipedia.org/wiki/Python', 'https://en.wikipedia.org/w/index.php?title=Python&action=edit', 'https://en.wikipedia.org/w/index.php?title=Python&action=history', 'https://en.wikipedia.org/wiki/Special:WhatLinksHere/Python', 'https://en.wikipedia.org/wiki/Special:RecentChangesLinked/Python', 'https://en.wikipedia.org/wiki/Wikipedia:File_Upload_Wizard', 'https://en.wikipedia.org/wiki/Special:SpecialPages', 'https://en.wikipedia.org/w/index.php?title=Python&oldid=1148531488', 'https://en.wikipedia.org/w/index.php?title=Python&action=info', 'https://en.wikipedia.org/w/index.php?title=Special:CiteThisPage&page=Python&id=1148531488&wpFormIdentifier=titleform', 'https://www.wikidata.org/wiki/Special:EntityPage/Q747452', 'https://en.wikipedia.org/w/index.php?title=Special:DownloadAsPdf&page=Python&action=show-download-screen', 'https://en.wikipedia.org/w/index.php?title=Python&printable=yes', 'https://commons.wikimedia.org/wiki/Category:Python', 'https://en.wiktionary.org/wiki/Python', 'https://en.wiktionary.org/wiki/python', 'https://en.wikipedia.org/w/index.php?title=Python&action=edit&section=1', 'https://en.wikipedia.org/wiki/Pythonidae', 'https://en.wikipedia.org/wiki/Python_(genus)', 'https://en.wikipedia.org/wiki/Python_(mythology)', 'https://en.wikipedia.org/w/index.php?title=Python&action=edit&section=2', 'https://en.wikipedia.org/wiki/Python_(programming_language)', 'https://en.wikipedia.org/wiki/CMU_Common_Lisp', 'https://en.wikipedia.org/wiki/PERQ#PERQ_3', 'https://en.wikipedia.org/w/index.php?title=Python&action=edit&section=3', 'https://en.wikipedia.org/wiki/Python_of_Aenus', 'https://en.wikipedia.org/wiki/Python_(painter)', 'https://en.wikipedia.org/wiki/Python_of_Byzantium', 'https://en.wikipedia.org/wiki/Python_of_Catana', 'https://en.wikipedia.org/wiki/Python_Anghelo', 'https://en.wikipedia.org/w/index.php?title=Python&action=edit&section=4', 'https://en.wikipedia.org/wiki/Python_(Efteling)', 'https://en.wikipedia.org/wiki/Python_(Busch_Gardens_Tampa_Bay)', 'https://en.wikipedia.org/wiki/Python_(Coney_Island,_Cincinnati,_Ohio)', 'https://en.wikipedia.org/w/index.php?title=Python&action=edit&section=5', 'https://en.wikipedia.org/wiki/Python_(automobile_maker)', 'https://en.wikipedia.org/wiki/Python_(Ford_prototype)', 'https://en.wikipedia.org/w/index.php?title=Python&action=edit&section=6', 'https://en.wikipedia.org/wiki/Python_(missile)', 'https://en.wikipedia.org/wiki/Python_(nuclear_primary)', 'https://en.wikipedia.org/wiki/Colt_Python', 'https://en.wikipedia.org/w/index.php?title=Python&action=edit&section=7', 'https://en.wikipedia.org/wiki/Python_(codename)', 'https://en.wikipedia.org/wiki/Python_(film)', 'https://en.wikipedia.org/wiki/Monty_Python', 'https://en.wikipedia.org/wiki/Python_(Monty)_Pictures', 'https://en.wikipedia.org/wiki/Timon_of_Phlius', 'https://en.wikipedia.org/w/index.php?title=Python&action=edit&section=8', 'https://en.wikipedia.org/wiki/Pyton', 'https://en.wikipedia.org/wiki/Pithon', 'https://en.wikipedia.org/wiki/File:Disambig_gray.svg', 'https://en.wikipedia.org/wiki/Help:Disambiguation', 'https://en.wikipedia.org/w/index.php?title=Special:WhatLinksHere/Python&namespace=0', 'https://en.wikipedia.org/w/index.php?title=Python&oldid=1148531488', 'https://en.wikipedia.org/wiki/Help:Category', 'https://en.wikipedia.org/wiki/Category:Disambiguation_pages', 'https://en.wikipedia.org/wiki/Category:Human_name_disambiguation_pages', 'https://en.wikipedia.org/wiki/Category:Disambiguation_pages_with_given-name-holder_lists', 'https://en.wikipedia.org/wiki/Category:Short_description_is_different_from_Wikidata', 'https://en.wikipedia.org/wiki/Category:All_article_disambiguation_pages', 'https://en.wikipedia.org/wiki/Category:All_disambiguation_pages', 'https://en.wikipedia.org/wiki/Category:Animal_common_name_disambiguation_pages', 'https://en.wikipedia.org/wiki/Wikipedia:Text_of_the_Creative_Commons_Attribution-ShareAlike_3.0_Unported_License', 'https://creativecommons.org/licenses/by-sa/3.0/', 'https://foundation.wikimedia.org/wiki/Terms_of_Use', 'https://foundation.wikimedia.org/wiki/Privacy_policy', 'https://www.wikimediafoundation.org/', 'https://foundation.wikimedia.org/wiki/Privacy_policy', 'https://en.wikipedia.org/wiki/Wikipedia:About', 'https://en.wikipedia.org/wiki/Wikipedia:General_disclaimer', 'https://en.wikipedia.org/wiki/Wikipedia:Contact_us', 'https://en.m.wikipedia.org/w/index.php?title=Python&mobileaction=toggle_view_mobile', 'https://developer.wikimedia.org', 'https://stats.wikimedia.org/#/en.wikipedia.org', 'https://foundation.wikimedia.org/wiki/Cookie_statement', 'https://wikimediafoundation.org/', 'https://www.mediawiki.org/']\n"
     ]
    }
   ],
   "source": [
    "new_links=[]\n",
    "\n",
    "for i in links3:\n",
    "    if i.startswith(\"//\"):\n",
    "        new_links.append(\"https:\" +i)\n",
    "    elif i.startswith(\"/\"):\n",
    "        new_links.append(\"https://en.wikipedia.org\" + i)\n",
    "    else:\n",
    "        new_links.append(i)\n",
    "print(new_links)"
   ]
  },
  {
   "cell_type": "markdown",
   "metadata": {},
   "source": [
    "#### Number of Titles that have changed in the United States Code since its last release point "
   ]
  },
  {
   "cell_type": "code",
   "execution_count": 104,
   "metadata": {},
   "outputs": [],
   "source": [
    "# This is the url you will scrape in this exercise\n",
    "url = 'http://uscode.house.gov/download/download.shtml'"
   ]
  },
  {
   "cell_type": "code",
   "execution_count": 105,
   "metadata": {},
   "outputs": [],
   "source": [
    "#your code\n",
    "html = requests.get(url)\n",
    "soup = BeautifulSoup(html.content, \"html.parser\")"
   ]
  },
  {
   "cell_type": "code",
   "execution_count": 119,
   "metadata": {},
   "outputs": [],
   "source": [
    "result5= soup.find_all(\"div\", attrs = {\"class\": \"usctitlechanged\"})"
   ]
  },
  {
   "cell_type": "code",
   "execution_count": 120,
   "metadata": {},
   "outputs": [],
   "source": [
    "titles= [i.getText().replace(\"٭\", \"\").strip() for i in result4]"
   ]
  },
  {
   "cell_type": "code",
   "execution_count": 123,
   "metadata": {},
   "outputs": [
    {
     "name": "stdout",
     "output_type": "stream",
     "text": [
      "159 is the number of Titles that have changed in the United States Code since its last release point\n"
     ]
    }
   ],
   "source": [
    "print( f\"{len(titles)} is the number of Titles that have changed in the United States Code since its last release point\")"
   ]
  },
  {
   "cell_type": "markdown",
   "metadata": {},
   "source": [
    "####  20 latest earthquakes info (date, time, latitude, longitude and region name) by the EMSC as a pandas dataframe"
   ]
  },
  {
   "cell_type": "code",
   "execution_count": 47,
   "metadata": {},
   "outputs": [],
   "source": [
    "# This is the url you will scrape in this exercise\n",
    "url = 'https://www.emsc-csem.org/Earthquake/'"
   ]
  },
  {
   "cell_type": "code",
   "execution_count": 48,
   "metadata": {},
   "outputs": [],
   "source": [
    "#your code\n",
    "html = requests.get(url)\n",
    "soup = BeautifulSoup(html.content, \"html.parser\")"
   ]
  },
  {
   "cell_type": "code",
   "execution_count": 88,
   "metadata": {},
   "outputs": [],
   "source": [
    "results=soup.find_all(\"table\", attrs = {\"border\": \"0\"})[0]"
   ]
  },
  {
   "cell_type": "code",
   "execution_count": 89,
   "metadata": {},
   "outputs": [
    {
     "data": {
      "text/html": [
       "<div>\n",
       "<style scoped>\n",
       "    .dataframe tbody tr th:only-of-type {\n",
       "        vertical-align: middle;\n",
       "    }\n",
       "\n",
       "    .dataframe tbody tr th {\n",
       "        vertical-align: top;\n",
       "    }\n",
       "\n",
       "    .dataframe thead tr th {\n",
       "        text-align: left;\n",
       "    }\n",
       "</style>\n",
       "<table border=\"1\" class=\"dataframe\">\n",
       "  <thead>\n",
       "    <tr>\n",
       "      <th></th>\n",
       "      <th colspan=\"3\" halign=\"left\">Citizen  Response</th>\n",
       "      <th>Date &amp; Time  UTC</th>\n",
       "      <th colspan=\"2\" halign=\"left\">Latitude  degrees</th>\n",
       "      <th colspan=\"2\" halign=\"left\">Longitude  degrees</th>\n",
       "      <th>Depth  km</th>\n",
       "      <th>Mag  [+]</th>\n",
       "      <th>Region name  [+]</th>\n",
       "      <th>Last update  [-]</th>\n",
       "      <th>Unnamed: 12_level_0</th>\n",
       "    </tr>\n",
       "    <tr>\n",
       "      <th></th>\n",
       "      <th>1  2  3  4  5  6  7  8  9  10  ›  »</th>\n",
       "      <th>1  2  3  4  5  6  7  8  9  10  ›  ».1</th>\n",
       "      <th>1  2  3  4  5  6  7  8  9  10  ›  ».2</th>\n",
       "      <th>1  2  3  4  5  6  7  8  9  10  ›  »</th>\n",
       "      <th>1  2  3  4  5  6  7  8  9  10  ›  »</th>\n",
       "      <th>1  2  3  4  5  6  7  8  9  10  ›  ».1</th>\n",
       "      <th>1  2  3  4  5  6  7  8  9  10  ›  »</th>\n",
       "      <th>1  2  3  4  5  6  7  8  9  10  ›  ».1</th>\n",
       "      <th>1  2  3  4  5  6  7  8  9  10  ›  »</th>\n",
       "      <th>1  2  3  4  5  6  7  8  9  10  ›  »</th>\n",
       "      <th>1  2  3  4  5  6  7  8  9  10  ›  »</th>\n",
       "      <th>1  2  3  4  5  6  7  8  9  10  ›  »</th>\n",
       "      <th>1  2  3  4  5  6  7  8  9  10  ›  »</th>\n",
       "    </tr>\n",
       "  </thead>\n",
       "  <tbody>\n",
       "    <tr>\n",
       "      <th>0</th>\n",
       "      <td>NaN</td>\n",
       "      <td>NaN</td>\n",
       "      <td>NaN</td>\n",
       "      <td>2023-04-27 16:19:56.8  03min ago</td>\n",
       "      <td>38.75</td>\n",
       "      <td>N</td>\n",
       "      <td>37.30</td>\n",
       "      <td>E</td>\n",
       "      <td>10</td>\n",
       "      <td>M</td>\n",
       "      <td>2.6</td>\n",
       "      <td>CENTRAL TURKEY</td>\n",
       "      <td>2023-04-27 16:21</td>\n",
       "    </tr>\n",
       "    <tr>\n",
       "      <th>1</th>\n",
       "      <td>NaN</td>\n",
       "      <td>NaN</td>\n",
       "      <td>NaN</td>\n",
       "      <td>2023-04-27 16:12:29.5  11min ago</td>\n",
       "      <td>19.17</td>\n",
       "      <td>N</td>\n",
       "      <td>155.47</td>\n",
       "      <td>W</td>\n",
       "      <td>30</td>\n",
       "      <td>Ml</td>\n",
       "      <td>2.3</td>\n",
       "      <td>ISLAND OF HAWAII, HAWAII</td>\n",
       "      <td>2023-04-27 16:18</td>\n",
       "    </tr>\n",
       "    <tr>\n",
       "      <th>2</th>\n",
       "      <td>NaN</td>\n",
       "      <td>NaN</td>\n",
       "      <td>NaN</td>\n",
       "      <td>2023-04-27 16:08:22.0  15min ago</td>\n",
       "      <td>39.92</td>\n",
       "      <td>N</td>\n",
       "      <td>43.96</td>\n",
       "      <td>E</td>\n",
       "      <td>13</td>\n",
       "      <td>ML</td>\n",
       "      <td>2.4</td>\n",
       "      <td>EASTERN TURKEY</td>\n",
       "      <td>2023-04-27 16:15</td>\n",
       "    </tr>\n",
       "    <tr>\n",
       "      <th>3</th>\n",
       "      <td>NaN</td>\n",
       "      <td>NaN</td>\n",
       "      <td>NaN</td>\n",
       "      <td>2023-04-27 16:05:55.0  18min ago</td>\n",
       "      <td>8.27</td>\n",
       "      <td>S</td>\n",
       "      <td>108.98</td>\n",
       "      <td>E</td>\n",
       "      <td>24</td>\n",
       "      <td>M</td>\n",
       "      <td>3.1</td>\n",
       "      <td>JAVA, INDONESIA</td>\n",
       "      <td>2023-04-27 16:15</td>\n",
       "    </tr>\n",
       "    <tr>\n",
       "      <th>4</th>\n",
       "      <td>NaN</td>\n",
       "      <td>NaN</td>\n",
       "      <td>F</td>\n",
       "      <td>2023-04-27 16:01:59.1  21min ago</td>\n",
       "      <td>39.89</td>\n",
       "      <td>N</td>\n",
       "      <td>43.97</td>\n",
       "      <td>E</td>\n",
       "      <td>10</td>\n",
       "      <td>ML</td>\n",
       "      <td>2.6</td>\n",
       "      <td>EASTERN TURKEY</td>\n",
       "      <td>2023-04-27 16:21</td>\n",
       "    </tr>\n",
       "    <tr>\n",
       "      <th>5</th>\n",
       "      <td>NaN</td>\n",
       "      <td>NaN</td>\n",
       "      <td>NaN</td>\n",
       "      <td>2023-04-27 15:57:47.2  26min ago</td>\n",
       "      <td>36.29</td>\n",
       "      <td>N</td>\n",
       "      <td>36.31</td>\n",
       "      <td>E</td>\n",
       "      <td>6</td>\n",
       "      <td>ML</td>\n",
       "      <td>2.4</td>\n",
       "      <td>TURKEY-SYRIA BORDER REGION</td>\n",
       "      <td>2023-04-27 16:03</td>\n",
       "    </tr>\n",
       "    <tr>\n",
       "      <th>6</th>\n",
       "      <td>NaN</td>\n",
       "      <td>NaN</td>\n",
       "      <td>NaN</td>\n",
       "      <td>2023-04-27 15:55:28.3  28min ago</td>\n",
       "      <td>36.30</td>\n",
       "      <td>N</td>\n",
       "      <td>36.29</td>\n",
       "      <td>E</td>\n",
       "      <td>6</td>\n",
       "      <td>ML</td>\n",
       "      <td>2.8</td>\n",
       "      <td>TURKEY-SYRIA BORDER REGION</td>\n",
       "      <td>2023-04-27 16:01</td>\n",
       "    </tr>\n",
       "    <tr>\n",
       "      <th>7</th>\n",
       "      <td>NaN</td>\n",
       "      <td>NaN</td>\n",
       "      <td>F</td>\n",
       "      <td>2023-04-27 15:52:26.5  31min ago</td>\n",
       "      <td>39.81</td>\n",
       "      <td>N</td>\n",
       "      <td>44.02</td>\n",
       "      <td>E</td>\n",
       "      <td>12</td>\n",
       "      <td>ML</td>\n",
       "      <td>2.3</td>\n",
       "      <td>TURKEY-IRAN BORDER REGION</td>\n",
       "      <td>2023-04-27 15:56</td>\n",
       "    </tr>\n",
       "    <tr>\n",
       "      <th>8</th>\n",
       "      <td>NaN</td>\n",
       "      <td>NaN</td>\n",
       "      <td>NaN</td>\n",
       "      <td>2023-04-27 15:47:58.2  35min ago</td>\n",
       "      <td>19.47</td>\n",
       "      <td>N</td>\n",
       "      <td>155.26</td>\n",
       "      <td>W</td>\n",
       "      <td>1</td>\n",
       "      <td>Ml</td>\n",
       "      <td>2.0</td>\n",
       "      <td>ISLAND OF HAWAII, HAWAII</td>\n",
       "      <td>2023-04-27 15:53</td>\n",
       "    </tr>\n",
       "    <tr>\n",
       "      <th>9</th>\n",
       "      <td>NaN</td>\n",
       "      <td>NaN</td>\n",
       "      <td>NaN</td>\n",
       "      <td>2023-04-27 15:46:06.8  37min ago</td>\n",
       "      <td>37.97</td>\n",
       "      <td>N</td>\n",
       "      <td>37.46</td>\n",
       "      <td>E</td>\n",
       "      <td>18</td>\n",
       "      <td>ML</td>\n",
       "      <td>2.0</td>\n",
       "      <td>CENTRAL TURKEY</td>\n",
       "      <td>2023-04-27 15:53</td>\n",
       "    </tr>\n",
       "    <tr>\n",
       "      <th>10</th>\n",
       "      <td>NaN</td>\n",
       "      <td>NaN</td>\n",
       "      <td>NaN</td>\n",
       "      <td>2023-04-27 15:44:17.8  39min ago</td>\n",
       "      <td>37.97</td>\n",
       "      <td>N</td>\n",
       "      <td>37.75</td>\n",
       "      <td>E</td>\n",
       "      <td>22</td>\n",
       "      <td>ML</td>\n",
       "      <td>2.1</td>\n",
       "      <td>CENTRAL TURKEY</td>\n",
       "      <td>2023-04-27 15:51</td>\n",
       "    </tr>\n",
       "    <tr>\n",
       "      <th>11</th>\n",
       "      <td>NaN</td>\n",
       "      <td>NaN</td>\n",
       "      <td>NaN</td>\n",
       "      <td>2023-04-27 15:33:58.0  49min ago</td>\n",
       "      <td>22.66</td>\n",
       "      <td>S</td>\n",
       "      <td>68.87</td>\n",
       "      <td>W</td>\n",
       "      <td>135</td>\n",
       "      <td>M</td>\n",
       "      <td>2.9</td>\n",
       "      <td>ANTOFAGASTA, CHILE</td>\n",
       "      <td>2023-04-27 15:44</td>\n",
       "    </tr>\n",
       "    <tr>\n",
       "      <th>12</th>\n",
       "      <td>11</td>\n",
       "      <td>NaN</td>\n",
       "      <td>IV</td>\n",
       "      <td>2023-04-27 15:33:43.2  50min ago</td>\n",
       "      <td>38.82</td>\n",
       "      <td>N</td>\n",
       "      <td>37.31</td>\n",
       "      <td>E</td>\n",
       "      <td>2</td>\n",
       "      <td>mb</td>\n",
       "      <td>4.2</td>\n",
       "      <td>CENTRAL TURKEY</td>\n",
       "      <td>2023-04-27 16:17</td>\n",
       "    </tr>\n",
       "    <tr>\n",
       "      <th>13</th>\n",
       "      <td>NaN</td>\n",
       "      <td>NaN</td>\n",
       "      <td>NaN</td>\n",
       "      <td>2023-04-27 15:27:01.8  56min ago</td>\n",
       "      <td>17.94</td>\n",
       "      <td>N</td>\n",
       "      <td>66.96</td>\n",
       "      <td>W</td>\n",
       "      <td>15</td>\n",
       "      <td>Md</td>\n",
       "      <td>2.2</td>\n",
       "      <td>PUERTO RICO REGION</td>\n",
       "      <td>2023-04-27 16:19</td>\n",
       "    </tr>\n",
       "    <tr>\n",
       "      <th>14</th>\n",
       "      <td>NaN</td>\n",
       "      <td>NaN</td>\n",
       "      <td>NaN</td>\n",
       "      <td>2023-04-27 15:21:35.6  1hr 02min ago</td>\n",
       "      <td>19.40</td>\n",
       "      <td>N</td>\n",
       "      <td>155.27</td>\n",
       "      <td>W</td>\n",
       "      <td>1</td>\n",
       "      <td>Md</td>\n",
       "      <td>2.0</td>\n",
       "      <td>ISLAND OF HAWAII, HAWAII</td>\n",
       "      <td>2023-04-27 15:24</td>\n",
       "    </tr>\n",
       "    <tr>\n",
       "      <th>15</th>\n",
       "      <td>1</td>\n",
       "      <td>NaN</td>\n",
       "      <td>F</td>\n",
       "      <td>2023-04-27 15:17:01.0  1hr 06min ago</td>\n",
       "      <td>39.73</td>\n",
       "      <td>N</td>\n",
       "      <td>22.16</td>\n",
       "      <td>E</td>\n",
       "      <td>4</td>\n",
       "      <td>ML</td>\n",
       "      <td>2.9</td>\n",
       "      <td>GREECE</td>\n",
       "      <td>2023-04-27 16:03</td>\n",
       "    </tr>\n",
       "    <tr>\n",
       "      <th>16</th>\n",
       "      <td>NaN</td>\n",
       "      <td>NaN</td>\n",
       "      <td>NaN</td>\n",
       "      <td>2023-04-27 15:16:50.6  1hr 07min ago</td>\n",
       "      <td>37.37</td>\n",
       "      <td>N</td>\n",
       "      <td>8.40</td>\n",
       "      <td>W</td>\n",
       "      <td>20</td>\n",
       "      <td>ML</td>\n",
       "      <td>2.6</td>\n",
       "      <td>PORTUGAL</td>\n",
       "      <td>2023-04-27 15:43</td>\n",
       "    </tr>\n",
       "    <tr>\n",
       "      <th>17</th>\n",
       "      <td>1</td>\n",
       "      <td>NaN</td>\n",
       "      <td>F</td>\n",
       "      <td>2023-04-27 14:56:58.9  1hr 26min ago</td>\n",
       "      <td>3.00</td>\n",
       "      <td>N</td>\n",
       "      <td>98.58</td>\n",
       "      <td>E</td>\n",
       "      <td>60</td>\n",
       "      <td>mb</td>\n",
       "      <td>4.6</td>\n",
       "      <td>NORTHERN SUMATRA, INDONESIA</td>\n",
       "      <td>2023-04-27 15:18</td>\n",
       "    </tr>\n",
       "    <tr>\n",
       "      <th>18</th>\n",
       "      <td>NaN</td>\n",
       "      <td>NaN</td>\n",
       "      <td>NaN</td>\n",
       "      <td>2023-04-27 14:52:35.7  1hr 31min ago</td>\n",
       "      <td>36.71</td>\n",
       "      <td>N</td>\n",
       "      <td>22.64</td>\n",
       "      <td>E</td>\n",
       "      <td>3</td>\n",
       "      <td>ML</td>\n",
       "      <td>2.6</td>\n",
       "      <td>SOUTHERN GREECE</td>\n",
       "      <td>2023-04-27 15:54</td>\n",
       "    </tr>\n",
       "    <tr>\n",
       "      <th>19</th>\n",
       "      <td>NaN</td>\n",
       "      <td>NaN</td>\n",
       "      <td>F</td>\n",
       "      <td>2023-04-27 14:45:22.6  1hr 38min ago</td>\n",
       "      <td>37.96</td>\n",
       "      <td>N</td>\n",
       "      <td>37.03</td>\n",
       "      <td>E</td>\n",
       "      <td>8</td>\n",
       "      <td>ML</td>\n",
       "      <td>2.8</td>\n",
       "      <td>CENTRAL TURKEY</td>\n",
       "      <td>2023-04-27 14:54</td>\n",
       "    </tr>\n",
       "  </tbody>\n",
       "</table>\n",
       "</div>"
      ],
      "text/plain": [
       "                     Citizen  Response                                         \n",
       "   1  2  3  4  5  6  7  8  9  10  ›  » 1  2  3  4  5  6  7  8  9  10  ›  ».1   \n",
       "0                                  NaN                                   NaN  \\\n",
       "1                                  NaN                                   NaN   \n",
       "2                                  NaN                                   NaN   \n",
       "3                                  NaN                                   NaN   \n",
       "4                                  NaN                                   NaN   \n",
       "5                                  NaN                                   NaN   \n",
       "6                                  NaN                                   NaN   \n",
       "7                                  NaN                                   NaN   \n",
       "8                                  NaN                                   NaN   \n",
       "9                                  NaN                                   NaN   \n",
       "10                                 NaN                                   NaN   \n",
       "11                                 NaN                                   NaN   \n",
       "12                                  11                                   NaN   \n",
       "13                                 NaN                                   NaN   \n",
       "14                                 NaN                                   NaN   \n",
       "15                                   1                                   NaN   \n",
       "16                                 NaN                                   NaN   \n",
       "17                                   1                                   NaN   \n",
       "18                                 NaN                                   NaN   \n",
       "19                                 NaN                                   NaN   \n",
       "\n",
       "                                           \n",
       "   1  2  3  4  5  6  7  8  9  10  ›  ».2   \n",
       "0                                    NaN  \\\n",
       "1                                    NaN   \n",
       "2                                    NaN   \n",
       "3                                    NaN   \n",
       "4                                      F   \n",
       "5                                    NaN   \n",
       "6                                    NaN   \n",
       "7                                      F   \n",
       "8                                    NaN   \n",
       "9                                    NaN   \n",
       "10                                   NaN   \n",
       "11                                   NaN   \n",
       "12                                    IV   \n",
       "13                                   NaN   \n",
       "14                                   NaN   \n",
       "15                                     F   \n",
       "16                                   NaN   \n",
       "17                                     F   \n",
       "18                                   NaN   \n",
       "19                                     F   \n",
       "\n",
       "                        Date & Time  UTC                   Latitude  degrees   \n",
       "     1  2  3  4  5  6  7  8  9  10  ›  » 1  2  3  4  5  6  7  8  9  10  ›  »   \n",
       "0       2023-04-27 16:19:56.8  03min ago                               38.75  \\\n",
       "1       2023-04-27 16:12:29.5  11min ago                               19.17   \n",
       "2       2023-04-27 16:08:22.0  15min ago                               39.92   \n",
       "3       2023-04-27 16:05:55.0  18min ago                                8.27   \n",
       "4       2023-04-27 16:01:59.1  21min ago                               39.89   \n",
       "5       2023-04-27 15:57:47.2  26min ago                               36.29   \n",
       "6       2023-04-27 15:55:28.3  28min ago                               36.30   \n",
       "7       2023-04-27 15:52:26.5  31min ago                               39.81   \n",
       "8       2023-04-27 15:47:58.2  35min ago                               19.47   \n",
       "9       2023-04-27 15:46:06.8  37min ago                               37.97   \n",
       "10      2023-04-27 15:44:17.8  39min ago                               37.97   \n",
       "11      2023-04-27 15:33:58.0  49min ago                               22.66   \n",
       "12      2023-04-27 15:33:43.2  50min ago                               38.82   \n",
       "13      2023-04-27 15:27:01.8  56min ago                               17.94   \n",
       "14  2023-04-27 15:21:35.6  1hr 02min ago                               19.40   \n",
       "15  2023-04-27 15:17:01.0  1hr 06min ago                               39.73   \n",
       "16  2023-04-27 15:16:50.6  1hr 07min ago                               37.37   \n",
       "17  2023-04-27 14:56:58.9  1hr 26min ago                                3.00   \n",
       "18  2023-04-27 14:52:35.7  1hr 31min ago                               36.71   \n",
       "19  2023-04-27 14:45:22.6  1hr 38min ago                               37.96   \n",
       "\n",
       "                                                          Longitude  degrees   \n",
       "   1  2  3  4  5  6  7  8  9  10  ›  ».1 1  2  3  4  5  6  7  8  9  10  ›  »   \n",
       "0                                      N                               37.30  \\\n",
       "1                                      N                              155.47   \n",
       "2                                      N                               43.96   \n",
       "3                                      S                              108.98   \n",
       "4                                      N                               43.97   \n",
       "5                                      N                               36.31   \n",
       "6                                      N                               36.29   \n",
       "7                                      N                               44.02   \n",
       "8                                      N                              155.26   \n",
       "9                                      N                               37.46   \n",
       "10                                     N                               37.75   \n",
       "11                                     S                               68.87   \n",
       "12                                     N                               37.31   \n",
       "13                                     N                               66.96   \n",
       "14                                     N                              155.27   \n",
       "15                                     N                               22.16   \n",
       "16                                     N                                8.40   \n",
       "17                                     N                               98.58   \n",
       "18                                     N                               22.64   \n",
       "19                                     N                               37.03   \n",
       "\n",
       "                                                                   Depth  km   \n",
       "   1  2  3  4  5  6  7  8  9  10  ›  ».1 1  2  3  4  5  6  7  8  9  10  ›  »   \n",
       "0                                      E                                  10  \\\n",
       "1                                      W                                  30   \n",
       "2                                      E                                  13   \n",
       "3                                      E                                  24   \n",
       "4                                      E                                  10   \n",
       "5                                      E                                   6   \n",
       "6                                      E                                   6   \n",
       "7                                      E                                  12   \n",
       "8                                      W                                   1   \n",
       "9                                      E                                  18   \n",
       "10                                     E                                  22   \n",
       "11                                     W                                 135   \n",
       "12                                     E                                   2   \n",
       "13                                     W                                  15   \n",
       "14                                     W                                   1   \n",
       "15                                     E                                   4   \n",
       "16                                     W                                  20   \n",
       "17                                     E                                  60   \n",
       "18                                     E                                   3   \n",
       "19                                     E                                   8   \n",
       "\n",
       "                              Mag  [+]                    Region name  [+]   \n",
       "   1  2  3  4  5  6  7  8  9  10  ›  » 1  2  3  4  5  6  7  8  9  10  ›  »   \n",
       "0                                    M                                 2.6  \\\n",
       "1                                   Ml                                 2.3   \n",
       "2                                   ML                                 2.4   \n",
       "3                                    M                                 3.1   \n",
       "4                                   ML                                 2.6   \n",
       "5                                   ML                                 2.4   \n",
       "6                                   ML                                 2.8   \n",
       "7                                   ML                                 2.3   \n",
       "8                                   Ml                                 2.0   \n",
       "9                                   ML                                 2.0   \n",
       "10                                  ML                                 2.1   \n",
       "11                                   M                                 2.9   \n",
       "12                                  mb                                 4.2   \n",
       "13                                  Md                                 2.2   \n",
       "14                                  Md                                 2.0   \n",
       "15                                  ML                                 2.9   \n",
       "16                                  ML                                 2.6   \n",
       "17                                  mb                                 4.6   \n",
       "18                                  ML                                 2.6   \n",
       "19                                  ML                                 2.8   \n",
       "\n",
       "                      Last update  [-]                 Unnamed: 12_level_0  \n",
       "   1  2  3  4  5  6  7  8  9  10  ›  » 1  2  3  4  5  6  7  8  9  10  ›  »  \n",
       "0                       CENTRAL TURKEY                    2023-04-27 16:21  \n",
       "1             ISLAND OF HAWAII, HAWAII                    2023-04-27 16:18  \n",
       "2                       EASTERN TURKEY                    2023-04-27 16:15  \n",
       "3                      JAVA, INDONESIA                    2023-04-27 16:15  \n",
       "4                       EASTERN TURKEY                    2023-04-27 16:21  \n",
       "5           TURKEY-SYRIA BORDER REGION                    2023-04-27 16:03  \n",
       "6           TURKEY-SYRIA BORDER REGION                    2023-04-27 16:01  \n",
       "7            TURKEY-IRAN BORDER REGION                    2023-04-27 15:56  \n",
       "8             ISLAND OF HAWAII, HAWAII                    2023-04-27 15:53  \n",
       "9                       CENTRAL TURKEY                    2023-04-27 15:53  \n",
       "10                      CENTRAL TURKEY                    2023-04-27 15:51  \n",
       "11                  ANTOFAGASTA, CHILE                    2023-04-27 15:44  \n",
       "12                      CENTRAL TURKEY                    2023-04-27 16:17  \n",
       "13                  PUERTO RICO REGION                    2023-04-27 16:19  \n",
       "14            ISLAND OF HAWAII, HAWAII                    2023-04-27 15:24  \n",
       "15                              GREECE                    2023-04-27 16:03  \n",
       "16                            PORTUGAL                    2023-04-27 15:43  \n",
       "17         NORTHERN SUMATRA, INDONESIA                    2023-04-27 15:18  \n",
       "18                     SOUTHERN GREECE                    2023-04-27 15:54  \n",
       "19                      CENTRAL TURKEY                    2023-04-27 14:54  "
      ]
     },
     "execution_count": 89,
     "metadata": {},
     "output_type": "execute_result"
    }
   ],
   "source": [
    "df=pd.read_html(results.prettify())[0]\n",
    "df.head(20)"
   ]
  },
  {
   "cell_type": "code",
   "execution_count": 101,
   "metadata": {},
   "outputs": [
    {
     "data": {
      "text/plain": [
       "MultiIndex([(  'Citizen  Response',   '1  2  3  4  5  6  7  8  9  10  ›  »'),\n",
       "            (  'Citizen  Response', '1  2  3  4  5  6  7  8  9  10  ›  ».1'),\n",
       "            (  'Citizen  Response', '1  2  3  4  5  6  7  8  9  10  ›  ».2'),\n",
       "            (   'Date & Time  UTC',   '1  2  3  4  5  6  7  8  9  10  ›  »'),\n",
       "            (  'Latitude  degrees',   '1  2  3  4  5  6  7  8  9  10  ›  »'),\n",
       "            (  'Latitude  degrees', '1  2  3  4  5  6  7  8  9  10  ›  ».1'),\n",
       "            ( 'Longitude  degrees',   '1  2  3  4  5  6  7  8  9  10  ›  »'),\n",
       "            ( 'Longitude  degrees', '1  2  3  4  5  6  7  8  9  10  ›  ».1'),\n",
       "            (          'Depth  km',   '1  2  3  4  5  6  7  8  9  10  ›  »'),\n",
       "            (           'Mag  [+]',   '1  2  3  4  5  6  7  8  9  10  ›  »'),\n",
       "            (   'Region name  [+]',   '1  2  3  4  5  6  7  8  9  10  ›  »'),\n",
       "            (   'Last update  [-]',   '1  2  3  4  5  6  7  8  9  10  ›  »'),\n",
       "            ('Unnamed: 12_level_0',   '1  2  3  4  5  6  7  8  9  10  ›  »')],\n",
       "           )"
      ]
     },
     "execution_count": 101,
     "metadata": {},
     "output_type": "execute_result"
    }
   ],
   "source": [
    "df.columns"
   ]
  },
  {
   "cell_type": "markdown",
   "metadata": {},
   "source": [
    "#### Display the date, days, title, city, country of next 25 hackathon events as a Pandas dataframe table"
   ]
  },
  {
   "cell_type": "code",
   "execution_count": null,
   "metadata": {},
   "outputs": [],
   "source": [
    "# This is the url you will scrape in this exercise\n",
    "url ='https://hackevents.co/hackathons'\n",
    "url_hack = 'https://hackevents.co/search/anything/anywhere/anytime' "
   ]
  },
  {
   "cell_type": "code",
   "execution_count": 110,
   "metadata": {},
   "outputs": [],
   "source": [
    "#your code\n",
    "\n"
   ]
  },
  {
   "cell_type": "code",
   "execution_count": null,
   "metadata": {},
   "outputs": [],
   "source": []
  },
  {
   "cell_type": "markdown",
   "metadata": {},
   "source": [
    "#### List all language names and number of related articles in the order they appear in wikipedia.org"
   ]
  },
  {
   "cell_type": "code",
   "execution_count": null,
   "metadata": {},
   "outputs": [],
   "source": [
    "# This is the url you will scrape in this exercise\n",
    "url = 'https://www.wikipedia.org/'"
   ]
  },
  {
   "cell_type": "code",
   "execution_count": null,
   "metadata": {},
   "outputs": [],
   "source": [
    "#your code\n"
   ]
  },
  {
   "cell_type": "code",
   "execution_count": null,
   "metadata": {},
   "outputs": [],
   "source": []
  },
  {
   "cell_type": "markdown",
   "metadata": {},
   "source": [
    "#### A list with the different kind of datasets available in data.gov.uk "
   ]
  },
  {
   "cell_type": "code",
   "execution_count": null,
   "metadata": {},
   "outputs": [],
   "source": [
    "# This is the url you will scrape in this exercise\n",
    "url = 'https://data.gov.uk/'"
   ]
  },
  {
   "cell_type": "code",
   "execution_count": null,
   "metadata": {},
   "outputs": [],
   "source": [
    "#your code \n"
   ]
  },
  {
   "cell_type": "code",
   "execution_count": null,
   "metadata": {},
   "outputs": [],
   "source": []
  },
  {
   "cell_type": "markdown",
   "metadata": {},
   "source": [
    "#### Top 10 languages by number of native speakers stored in a Pandas Dataframe"
   ]
  },
  {
   "cell_type": "code",
   "execution_count": null,
   "metadata": {},
   "outputs": [],
   "source": [
    "# This is the url you will scrape in this exercise\n",
    "url = 'https://en.wikipedia.org/wiki/List_of_languages_by_number_of_native_speakers'"
   ]
  },
  {
   "cell_type": "code",
   "execution_count": null,
   "metadata": {},
   "outputs": [],
   "source": [
    "#your code\n"
   ]
  },
  {
   "cell_type": "code",
   "execution_count": null,
   "metadata": {},
   "outputs": [],
   "source": []
  },
  {
   "cell_type": "markdown",
   "metadata": {},
   "source": [
    "### BONUS QUESTIONS"
   ]
  },
  {
   "cell_type": "markdown",
   "metadata": {},
   "source": [
    "#### IMDB's Top 250 data (movie name, Initial release, director name and stars) as a pandas dataframe"
   ]
  },
  {
   "cell_type": "code",
   "execution_count": null,
   "metadata": {},
   "outputs": [],
   "source": [
    "# This is the url you will scrape in this exercise \n",
    "url = 'https://www.imdb.com/chart/top'"
   ]
  },
  {
   "cell_type": "code",
   "execution_count": null,
   "metadata": {},
   "outputs": [],
   "source": [
    "# your code\n",
    "\n"
   ]
  },
  {
   "cell_type": "code",
   "execution_count": null,
   "metadata": {},
   "outputs": [],
   "source": []
  },
  {
   "cell_type": "code",
   "execution_count": null,
   "metadata": {},
   "outputs": [],
   "source": []
  }
 ],
 "metadata": {
  "kernelspec": {
   "display_name": "ironhack",
   "language": "python",
   "name": "ironhack"
  },
  "language_info": {
   "codemirror_mode": {
    "name": "ipython",
    "version": 3
   },
   "file_extension": ".py",
   "mimetype": "text/x-python",
   "name": "python",
   "nbconvert_exporter": "python",
   "pygments_lexer": "ipython3",
   "version": "3.9.12"
  },
  "toc": {
   "base_numbering": 1,
   "nav_menu": {},
   "number_sections": false,
   "sideBar": true,
   "skip_h1_title": false,
   "title_cell": "Table of Contents",
   "title_sidebar": "Contents",
   "toc_cell": false,
   "toc_position": {
    "height": "calc(100% - 180px)",
    "left": "10px",
    "top": "150px",
    "width": "288px"
   },
   "toc_section_display": true,
   "toc_window_display": false
  }
 },
 "nbformat": 4,
 "nbformat_minor": 2
}
